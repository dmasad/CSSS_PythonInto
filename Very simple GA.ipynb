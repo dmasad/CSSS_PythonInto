{
 "metadata": {
  "name": "Very simple GA"
 },
 "nbformat": 3,
 "nbformat_minor": 0,
 "worksheets": [
  {
   "cells": [
    {
     "cell_type": "markdown",
     "metadata": {},
     "source": [
      "# Very (very) simple Genetic Algorithm\n",
      "\n",
      "Let's use a GA to maximize the function $-0.125x^2 + 10x + 50$\n",
      "\n",
      "Each genome will be a binary string: '00000000' to '11111111'"
     ]
    },
    {
     "cell_type": "code",
     "collapsed": false,
     "input": [
      "import random\n",
      "import matplotlib.pyplot as plt"
     ],
     "language": "python",
     "metadata": {},
     "outputs": [],
     "prompt_number": 2
    },
    {
     "cell_type": "markdown",
     "metadata": {},
     "source": [
      "## Basic functions\n",
      "* Generate random genome\n",
      "* Compute fitness\n",
      "* Cross genes\n",
      "* Mutate\n",
      "* Weighted random choice"
     ]
    },
    {
     "cell_type": "code",
     "collapsed": false,
     "input": [
      "def random_genome(length):\n",
      "    genome = \"\"\n",
      "    for i in range(length):\n",
      "        if random.random() < 0.5:\n",
      "            genome += '1'\n",
      "        else:\n",
      "            genome += '0'\n",
      "    return genome"
     ],
     "language": "python",
     "metadata": {},
     "outputs": [],
     "prompt_number": 3
    },
    {
     "cell_type": "code",
     "collapsed": false,
     "input": [
      "def crossover(parent1, parent2, crossover=None):\n",
      "    if crossover is None:\n",
      "        crossover = random.randrange(len(parent1))\n",
      "    return parent1[:crossover] + parent2[crossover:]"
     ],
     "language": "python",
     "metadata": {},
     "outputs": [],
     "prompt_number": 4
    },
    {
     "cell_type": "code",
     "collapsed": false,
     "input": [
      "def mutate(base):\n",
      "    pt = random.randrange(len(base))\n",
      "    base_list = list(base)\n",
      "    if base_list[pt] == '1':\n",
      "        base_list[pt] = '0'\n",
      "    else:\n",
      "        base_list[pt] = '1'\n",
      "    base = \"\".join(base_list)\n",
      "    return base"
     ],
     "language": "python",
     "metadata": {},
     "outputs": [],
     "prompt_number": 5
    },
    {
     "cell_type": "code",
     "collapsed": false,
     "input": [
      "def fitness(genome):\n",
      "    x = int(genome, 2)\n",
      "    #y = -(x**2) + 8*x + 12\n",
      "    #y = -0.25*(x**2) + 10*x + 50\n",
      "    y = -0.125*(x**2) + 10*x + 50\n",
      "    return y"
     ],
     "language": "python",
     "metadata": {},
     "outputs": [],
     "prompt_number": 6
    },
    {
     "cell_type": "code",
     "collapsed": false,
     "input": [
      "def best_fitness(genome_list):\n",
      "    fitness_values = [fitness(genome) for genome in genome_list]\n",
      "    return max(fitness_values)"
     ],
     "language": "python",
     "metadata": {},
     "outputs": [],
     "prompt_number": 7
    },
    {
     "cell_type": "code",
     "collapsed": false,
     "input": [
      "def mean_fitness(genome_list):\n",
      "    fitness_values = [fitness(genome) for genome in genome_list]\n",
      "    total = sum(fitness_values) * 1.0\n",
      "    return (total / len(fitness_values))"
     ],
     "language": "python",
     "metadata": {},
     "outputs": [],
     "prompt_number": 8
    },
    {
     "cell_type": "code",
     "collapsed": false,
     "input": [
      "def weighted_random(item_dict):\n",
      "\t'''\n",
      "\tRandomly choose an item from the dictionary keys,\n",
      "\twith probability weights given in the dictionary values.\n",
      "\n",
      "\tArgs:\n",
      "\t\titem_dict: a dictionary of the form:\n",
      "\t\t\t{Item: weight, Item: weight}\n",
      "\t\t\twhere Item can be any key, and the weights are numeric.\n",
      "\t'''\n",
      "\ttotal = sum(item_dict.values())\n",
      "\tchoice = random.random() * total\n",
      "\tcounter = 0\n",
      "\tfor key, wgt in item_dict.items():\n",
      "\t\tif choice < counter + wgt: \n",
      "\t\t\treturn key\n",
      "\t\telse: \n",
      "\t\t\tcounter += wgt"
     ],
     "language": "python",
     "metadata": {},
     "outputs": [],
     "prompt_number": 9
    },
    {
     "cell_type": "markdown",
     "metadata": {},
     "source": [
      "## Running the model"
     ]
    },
    {
     "cell_type": "code",
     "collapsed": false,
     "input": [
      "def one_generation(genome_list, num_offspring, mutation_chance):\n",
      "    # Compute the fitness for each genome\n",
      "    fitness_dict = {}\n",
      "    for i, genome in enumerate(genome_list):\n",
      "        f = fitness(genome)\n",
      "        if f < 0:\n",
      "            f = 0\n",
      "        fitness_dict[i] = f\n",
      "    # Breed the next generations\n",
      "    new_genomes = []\n",
      "    while len(new_genomes) < len(genome_list):\n",
      "        parent1 = genome_list[weighted_random(fitness_dict)]\n",
      "        parent2 = genome_list[weighted_random(fitness_dict)]\n",
      "        for n in range(num_offspring):\n",
      "            offspring = crossover(parent1, parent2, 4)\n",
      "            if random.random() < mutation_chance:\n",
      "                offspring = mutate(offspring)\n",
      "            new_genomes.append(offspring)\n",
      "    return new_genomes"
     ],
     "language": "python",
     "metadata": {},
     "outputs": [],
     "prompt_number": 10
    },
    {
     "cell_type": "code",
     "collapsed": false,
     "input": [
      "# Set some parameters:\n",
      "GENOME_SIZE = 8\n",
      "MUTATION_CHANCE = 0.1\n",
      "GENERATION_SIZE = 10\n",
      "NUM_OFFSPRING = 2"
     ],
     "language": "python",
     "metadata": {},
     "outputs": [],
     "prompt_number": 11
    },
    {
     "cell_type": "code",
     "collapsed": false,
     "input": [
      "first_genomes = []\n",
      "for i in range(GENERATION_SIZE):\n",
      "    genome = random_genome(GENOME_SIZE)\n",
      "    first_genomes.append(genome)\n",
      "    \n",
      "print \"Starting mean fitness: \", mean_fitness(first_genomes)\n",
      "print \"Starting best fitness: \", best_fitness(first_genomes)\n"
     ],
     "language": "python",
     "metadata": {},
     "outputs": [
      {
       "output_type": "stream",
       "stream": "stdout",
       "text": [
        "Starting mean fitness:  -1154.1625\n",
        "Starting best fitness:  183.875\n"
       ]
      }
     ],
     "prompt_number": 12
    },
    {
     "cell_type": "code",
     "collapsed": false,
     "input": [
      "next_genome = first_genomes\n",
      "generation_mean_fitness = []\n",
      "generation_best_fitness = []\n",
      "\n",
      "for i in range(100):\n",
      "    next_genome = one_generation(next_genome, NUM_OFFSPRING, MUTATION_CHANCE)\n",
      "    #print \"Generation\", i, \": \", best_fitness(next_genome)\n",
      "    print \"Generation\", i, \": \", mean_fitness(next_genome)\n",
      "    generation_mean_fitness.append(mean_fitness(next_genome))\n",
      "    generation_best_fitness.append(best_fitness(next_genome))\n",
      "    "
     ],
     "language": "python",
     "metadata": {},
     "outputs": [
      {
       "output_type": "stream",
       "stream": "stdout",
       "text": [
        "Generation 0 :  152.875\n",
        "Generation 1 :  74.675\n",
        "Generation 2 :  181.1375\n",
        "Generation 3 :  195.275\n",
        "Generation 4 :  111.275\n",
        "Generation 5 :  204.875\n",
        "Generation 6 :  123.275\n",
        "Generation 7 :  202.775\n",
        "Generation 8 :  112.675\n",
        "Generation 9 :  204.875\n",
        "Generation 10 :  123.275\n",
        "Generation 11 :  204.875\n",
        "Generation 12 :  202.775\n",
        "Generation 13 :  203.675\n",
        "Generation 14 :  189.775\n",
        "Generation 15 :  208.975\n",
        "Generation 16 :  219.875\n",
        "Generation 17 :  219.875\n",
        "Generation 18 :  235.675\n",
        "Generation 19 :  246.275\n",
        "Generation 20 :  247.4375\n",
        "Generation 21 :  247.125\n",
        "Generation 22 :  245.0\n",
        "Generation 23 :  243.875\n",
        "Generation 24 :  239.075\n",
        "Generation 25 :  234.275\n",
        "Generation 26 :  246.275\n",
        "Generation 27 :  246.2375\n",
        "Generation 28 :  245.0\n",
        "Generation 29 :  247.25\n",
        "Generation 30 :  248.375\n",
        "Generation 31 :  247.1\n",
        "Generation 32 :  247.1\n",
        "Generation 33 :  249.5\n",
        "Generation 34 :  249.5\n",
        "Generation 35 :  51.1\n",
        "Generation 36 :  249.1375\n",
        "Generation 37 :  200.775\n",
        "Generation 38 :  249.575\n",
        "Generation 39 :  249.175\n",
        "Generation 40 :  249.1\n",
        "Generation 41 :  51.1\n",
        "Generation 42 :  249.1\n",
        "Generation 43 :  247.1\n",
        "Generation 44 :  249.5\n",
        "Generation 45 :  247.1\n",
        "Generation 46 :  242.3\n",
        "Generation 47 :  234.7375\n",
        "Generation 48 :  239.175\n",
        "Generation 49 :  -2.4625\n",
        "Generation 50 :  249.5\n",
        "Generation 51 :  201.1\n",
        "Generation 52 :  248.3\n",
        "Generation 53 :  248.7\n",
        "Generation 54 :  248.7\n",
        "Generation 55 :  248.7\n",
        "Generation 56 :  247.9\n",
        "Generation 57 :  50.3\n",
        "Generation 58 :  201.5\n",
        "Generation 59 :  249.1\n",
        "Generation 60 :  50.3\n",
        "Generation 61 :  248.7\n",
        "Generation 62 :  249.5\n",
        "Generation 63 :  249.35\n",
        "Generation 64 :  249.5\n",
        "Generation 65 :  199.1\n",
        "Generation 66 :  249.5\n",
        "Generation 67 :  249.1\n",
        "Generation 68 :  51.1\n",
        "Generation 69 :  249.5\n",
        "Generation 70 :  249.5\n",
        "Generation 71 :  247.1\n",
        "Generation 72 :  244.55\n",
        "Generation 73 :  248.9875\n",
        "Generation 74 :  249.125\n",
        "Generation 75 :  248.6\n",
        "Generation 76 :  248.9375\n",
        "Generation 77 :  249.275\n",
        "Generation 78 :  248.575\n",
        "Generation 79 :  248.975\n",
        "Generation 80 :  8.6\n",
        "Generation 81 :  248.6\n",
        "Generation 82 :  248.3875\n",
        "Generation 83 :  248.3\n",
        "Generation 84 :  248.0\n",
        "Generation 85 :  248.0\n",
        "Generation 86 :  248.0\n",
        "Generation 87 :  248.0\n",
        "Generation 88 :  247.4\n",
        "Generation 89 :  246.8\n",
        "Generation 90 :  203.2\n",
        "Generation 91 :  247.4\n",
        "Generation 92 :  245.6\n",
        "Generation 93 :  245.6\n",
        "Generation 94 :  245.6\n",
        "Generation 95 :  246.95\n",
        "Generation 96 :  244.7\n",
        "Generation 97 :  202.0\n",
        "Generation 98 :  246.8\n",
        "Generation 99 :  246.8\n"
       ]
      }
     ],
     "prompt_number": 13
    },
    {
     "cell_type": "code",
     "collapsed": false,
     "input": [
      "# Set the labels\n",
      "plt.xlabel(\"Generations\")\n",
      "plt.ylabel(\"Fitness\")\n",
      "plt.title(\"Evolving fitness\")\n",
      "\n",
      "# Plot\n",
      "plt.plot(generation_best_fitness)\n",
      "plt.plot(generation_mean_fitness)\n",
      "\n",
      "# Add the legend:\n",
      "plt.legend([\"Best fitness\", \"Mean fitness\"])"
     ],
     "language": "python",
     "metadata": {},
     "outputs": [
      {
       "output_type": "pyout",
       "prompt_number": 14,
       "text": [
        "<matplotlib.legend.Legend at 0x106ae9850>"
       ]
      },
      {
       "output_type": "display_data",
       "png": "[encoded data removed]"
      }
     ],
     "prompt_number": 14
    },
    {
     "cell_type": "code",
     "collapsed": false,
     "input": [],
     "language": "python",
     "metadata": {},
     "outputs": [],
     "prompt_number": 14
    }
   ],
   "metadata": {}
  }
 ]
}